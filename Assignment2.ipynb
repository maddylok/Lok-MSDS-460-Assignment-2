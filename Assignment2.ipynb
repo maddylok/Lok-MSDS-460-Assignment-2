{
 "cells": [
  {
   "cell_type": "markdown",
   "metadata": {},
   "source": [
    "# Part 1: Problem Setup"
   ]
  },
  {
   "cell_type": "code",
   "execution_count": 1,
   "metadata": {},
   "outputs": [],
   "source": [
    "import pandas as pd"
   ]
  },
  {
   "cell_type": "code",
   "execution_count": 2,
   "metadata": {},
   "outputs": [
    {
     "data": {
      "text/plain": [
       "['Sheet1']"
      ]
     },
     "execution_count": 2,
     "metadata": {},
     "output_type": "execute_result"
    }
   ],
   "source": [
    "# Load the Excel file for project planning\n",
    "project_plan_path = \"/Users/spud/Documents/MSDS 460/Lok-MSDS-460-Assignment-2/Lok-MSDS-460-Assignment-2/project-plan-v003.xlsx\"\n",
    "\n",
    "# Read the Excel file\n",
    "xls = pd.ExcelFile(project_plan_path)\n",
    "\n",
    "# Display sheet names to determine relevant data\n",
    "xls.sheet_names\n"
   ]
  },
  {
   "cell_type": "code",
   "execution_count": 3,
   "metadata": {},
   "outputs": [
    {
     "data": {
      "text/plain": [
       "(  taskID                        task predecessorTaskIDs  bestCaseHours  \\\n",
       " 0      A            Describe product                NaN            NaN   \n",
       " 1      B  Develop marketing strategy                NaN            NaN   \n",
       " 2      C             Design brochure                  A            NaN   \n",
       " 3      D  Develop product  prototype                NaN            NaN   \n",
       " 4     D1       Requirements analysis                  A            NaN   \n",
       " \n",
       "    expectedHours  worstCaseHours  projectManager  frontendDeveloper  \\\n",
       " 0            NaN             NaN             NaN                NaN   \n",
       " 1            NaN             NaN             NaN                NaN   \n",
       " 2            NaN             NaN             NaN                NaN   \n",
       " 3            NaN             NaN             NaN                NaN   \n",
       " 4            NaN             NaN             NaN                NaN   \n",
       " \n",
       "    backendDeveloper  dataScientist  dataEngineer  \n",
       " 0               NaN            NaN           NaN  \n",
       " 1               NaN            NaN           NaN  \n",
       " 2               NaN            NaN           NaN  \n",
       " 3               NaN            NaN           NaN  \n",
       " 4               NaN            NaN           NaN  ,\n",
       " Index(['taskID', 'task', 'predecessorTaskIDs', 'bestCaseHours',\n",
       "        'expectedHours', 'worstCaseHours', 'projectManager',\n",
       "        'frontendDeveloper', 'backendDeveloper', 'dataScientist',\n",
       "        'dataEngineer'],\n",
       "       dtype='object'))"
      ]
     },
     "execution_count": 3,
     "metadata": {},
     "output_type": "execute_result"
    }
   ],
   "source": [
    "# Load the data from the first sheet\n",
    "df_tasks = pd.read_excel(xls, sheet_name=\"Sheet1\")\n",
    "\n",
    "# Show column names for reference\n",
    "df_tasks.head(), df_tasks.columns\n"
   ]
  },
  {
   "cell_type": "code",
   "execution_count": 4,
   "metadata": {},
   "outputs": [
    {
     "name": "stdout",
     "output_type": "stream",
     "text": [
      "['taskID', 'task', 'predecessorTaskIDs', 'bestCaseHours', 'expectedHours', 'worstCaseHours', 'projectManager', 'frontendDeveloper', 'backendDeveloper', 'dataScientist', 'dataEngineer']\n"
     ]
    }
   ],
   "source": [
    "print(df_tasks.columns.tolist())\n"
   ]
  },
  {
   "cell_type": "code",
   "execution_count": 5,
   "metadata": {},
   "outputs": [
    {
     "data": {
      "text/html": [
       "<div>\n",
       "<style scoped>\n",
       "    .dataframe tbody tr th:only-of-type {\n",
       "        vertical-align: middle;\n",
       "    }\n",
       "\n",
       "    .dataframe tbody tr th {\n",
       "        vertical-align: top;\n",
       "    }\n",
       "\n",
       "    .dataframe thead th {\n",
       "        text-align: right;\n",
       "    }\n",
       "</style>\n",
       "<table border=\"1\" class=\"dataframe\">\n",
       "  <thead>\n",
       "    <tr style=\"text-align: right;\">\n",
       "      <th></th>\n",
       "      <th>bestCaseHours</th>\n",
       "      <th>expectedHours</th>\n",
       "      <th>worstCaseHours</th>\n",
       "    </tr>\n",
       "  </thead>\n",
       "  <tbody>\n",
       "    <tr>\n",
       "      <th>count</th>\n",
       "      <td>16.0</td>\n",
       "      <td>16.0</td>\n",
       "      <td>16.0</td>\n",
       "    </tr>\n",
       "    <tr>\n",
       "      <th>mean</th>\n",
       "      <td>0.0</td>\n",
       "      <td>0.0</td>\n",
       "      <td>0.0</td>\n",
       "    </tr>\n",
       "    <tr>\n",
       "      <th>std</th>\n",
       "      <td>0.0</td>\n",
       "      <td>0.0</td>\n",
       "      <td>0.0</td>\n",
       "    </tr>\n",
       "    <tr>\n",
       "      <th>min</th>\n",
       "      <td>0.0</td>\n",
       "      <td>0.0</td>\n",
       "      <td>0.0</td>\n",
       "    </tr>\n",
       "    <tr>\n",
       "      <th>25%</th>\n",
       "      <td>0.0</td>\n",
       "      <td>0.0</td>\n",
       "      <td>0.0</td>\n",
       "    </tr>\n",
       "    <tr>\n",
       "      <th>50%</th>\n",
       "      <td>0.0</td>\n",
       "      <td>0.0</td>\n",
       "      <td>0.0</td>\n",
       "    </tr>\n",
       "    <tr>\n",
       "      <th>75%</th>\n",
       "      <td>0.0</td>\n",
       "      <td>0.0</td>\n",
       "      <td>0.0</td>\n",
       "    </tr>\n",
       "    <tr>\n",
       "      <th>max</th>\n",
       "      <td>0.0</td>\n",
       "      <td>0.0</td>\n",
       "      <td>0.0</td>\n",
       "    </tr>\n",
       "  </tbody>\n",
       "</table>\n",
       "</div>"
      ],
      "text/plain": [
       "       bestCaseHours  expectedHours  worstCaseHours\n",
       "count           16.0           16.0            16.0\n",
       "mean             0.0            0.0             0.0\n",
       "std              0.0            0.0             0.0\n",
       "min              0.0            0.0             0.0\n",
       "25%              0.0            0.0             0.0\n",
       "50%              0.0            0.0             0.0\n",
       "75%              0.0            0.0             0.0\n",
       "max              0.0            0.0             0.0"
      ]
     },
     "execution_count": 5,
     "metadata": {},
     "output_type": "execute_result"
    }
   ],
   "source": [
    "# Fill missing values in the time estimation columns with 0 for now\n",
    "df_tasks[['bestCaseHours', 'expectedHours', 'worstCaseHours']] = df_tasks[['bestCaseHours', 'expectedHours', 'worstCaseHours']].fillna(0)\n",
    "\n",
    "# Display summary statistics\n",
    "df_tasks[['bestCaseHours', 'expectedHours', 'worstCaseHours']].describe()\n"
   ]
  },
  {
   "cell_type": "code",
   "execution_count": 8,
   "metadata": {},
   "outputs": [
    {
     "data": {
      "text/html": [
       "<div>\n",
       "<style scoped>\n",
       "    .dataframe tbody tr th:only-of-type {\n",
       "        vertical-align: middle;\n",
       "    }\n",
       "\n",
       "    .dataframe tbody tr th {\n",
       "        vertical-align: top;\n",
       "    }\n",
       "\n",
       "    .dataframe thead th {\n",
       "        text-align: right;\n",
       "    }\n",
       "</style>\n",
       "<table border=\"1\" class=\"dataframe\">\n",
       "  <thead>\n",
       "    <tr style=\"text-align: right;\">\n",
       "      <th></th>\n",
       "      <th>taskID</th>\n",
       "      <th>task</th>\n",
       "      <th>predecessorTaskIDs</th>\n",
       "      <th>bestCaseHours</th>\n",
       "      <th>expectedHours</th>\n",
       "      <th>worstCaseHours</th>\n",
       "      <th>projectManager</th>\n",
       "      <th>frontendDeveloper</th>\n",
       "      <th>backendDeveloper</th>\n",
       "      <th>dataScientist</th>\n",
       "      <th>dataEngineer</th>\n",
       "    </tr>\n",
       "  </thead>\n",
       "  <tbody>\n",
       "    <tr>\n",
       "      <th>0</th>\n",
       "      <td>A</td>\n",
       "      <td>Describe product</td>\n",
       "      <td>NaN</td>\n",
       "      <td>8.0</td>\n",
       "      <td>12.0</td>\n",
       "      <td>16.0</td>\n",
       "      <td>NaN</td>\n",
       "      <td>NaN</td>\n",
       "      <td>NaN</td>\n",
       "      <td>NaN</td>\n",
       "      <td>NaN</td>\n",
       "    </tr>\n",
       "    <tr>\n",
       "      <th>1</th>\n",
       "      <td>B</td>\n",
       "      <td>Develop marketing strategy</td>\n",
       "      <td>NaN</td>\n",
       "      <td>12.0</td>\n",
       "      <td>16.0</td>\n",
       "      <td>24.0</td>\n",
       "      <td>NaN</td>\n",
       "      <td>NaN</td>\n",
       "      <td>NaN</td>\n",
       "      <td>NaN</td>\n",
       "      <td>NaN</td>\n",
       "    </tr>\n",
       "    <tr>\n",
       "      <th>2</th>\n",
       "      <td>C</td>\n",
       "      <td>Design brochure</td>\n",
       "      <td>A</td>\n",
       "      <td>16.0</td>\n",
       "      <td>24.0</td>\n",
       "      <td>32.0</td>\n",
       "      <td>NaN</td>\n",
       "      <td>NaN</td>\n",
       "      <td>NaN</td>\n",
       "      <td>NaN</td>\n",
       "      <td>NaN</td>\n",
       "    </tr>\n",
       "    <tr>\n",
       "      <th>3</th>\n",
       "      <td>D</td>\n",
       "      <td>Develop product  prototype</td>\n",
       "      <td>NaN</td>\n",
       "      <td>160.0</td>\n",
       "      <td>200.0</td>\n",
       "      <td>240.0</td>\n",
       "      <td>NaN</td>\n",
       "      <td>NaN</td>\n",
       "      <td>NaN</td>\n",
       "      <td>NaN</td>\n",
       "      <td>NaN</td>\n",
       "    </tr>\n",
       "    <tr>\n",
       "      <th>4</th>\n",
       "      <td>D1</td>\n",
       "      <td>Requirements analysis</td>\n",
       "      <td>A</td>\n",
       "      <td>24.0</td>\n",
       "      <td>32.0</td>\n",
       "      <td>40.0</td>\n",
       "      <td>NaN</td>\n",
       "      <td>NaN</td>\n",
       "      <td>NaN</td>\n",
       "      <td>NaN</td>\n",
       "      <td>NaN</td>\n",
       "    </tr>\n",
       "  </tbody>\n",
       "</table>\n",
       "</div>"
      ],
      "text/plain": [
       "  taskID                        task predecessorTaskIDs  bestCaseHours  \\\n",
       "0      A            Describe product                NaN            8.0   \n",
       "1      B  Develop marketing strategy                NaN           12.0   \n",
       "2      C             Design brochure                  A           16.0   \n",
       "3      D  Develop product  prototype                NaN          160.0   \n",
       "4     D1       Requirements analysis                  A           24.0   \n",
       "\n",
       "   expectedHours  worstCaseHours  projectManager  frontendDeveloper  \\\n",
       "0           12.0            16.0             NaN                NaN   \n",
       "1           16.0            24.0             NaN                NaN   \n",
       "2           24.0            32.0             NaN                NaN   \n",
       "3          200.0           240.0             NaN                NaN   \n",
       "4           32.0            40.0             NaN                NaN   \n",
       "\n",
       "   backendDeveloper  dataScientist  dataEngineer  \n",
       "0               NaN            NaN           NaN  \n",
       "1               NaN            NaN           NaN  \n",
       "2               NaN            NaN           NaN  \n",
       "3               NaN            NaN           NaN  \n",
       "4               NaN            NaN           NaN  "
      ]
     },
     "execution_count": 8,
     "metadata": {},
     "output_type": "execute_result"
    }
   ],
   "source": [
    "# Reassign reasonable industry-standard estimates (in hours) for each task\n",
    "time_estimates = {\n",
    "    \"A\": (8, 12, 16),    # Describe product\n",
    "    \"B\": (12, 16, 24),   # Develop marketing strategy\n",
    "    \"C\": (16, 24, 32),   # Design brochure\n",
    "    \"D\": (160, 200, 240),# Develop product prototype (overall)\n",
    "    \"D1\": (24, 32, 40),  # Requirements analysis\n",
    "    \"D2\": (40, 50, 60),  # Database design\n",
    "    \"D3\": (40, 50, 60),  # API development\n",
    "    \"D4\": (40, 50, 60),  # Backend development\n",
    "    \"D5\": (40, 50, 60),  # Frontend development\n",
    "    \"D6\": (24, 32, 40),  # Testing and QA\n",
    "    \"D7\": (24, 32, 40),  # Deployment setup\n",
    "    \"D8\": (16, 24, 32),  # Documentation\n",
    "    \"E\": (16, 24, 32),   # Develop user training material\n",
    "    \"F\": (24, 32, 40),   # Conduct training sessions\n",
    "    \"G\": (8, 12, 16),    # Gather user feedback\n",
    "    \"H\": (16, 24, 32)    # Finalize and deploy\n",
    "}\n",
    "\n",
    "# Update the dataframe with the new estimates\n",
    "for task_id, (best, expected, worst) in time_estimates.items():\n",
    "    df_tasks.loc[df_tasks[\"taskID\"] == task_id, [\"bestCaseHours\", \"expectedHours\", \"worstCaseHours\"]] = best, expected, worst\n",
    "\n",
    "df_tasks.head()"
   ]
  },
  {
   "cell_type": "code",
   "execution_count": 9,
   "metadata": {},
   "outputs": [
    {
     "name": "stdout",
     "output_type": "stream",
     "text": [
      "\n",
      "DEBUG: Industry-Standard Estimated Hours for Each Task\n",
      "A: Best=8, Expected=12, Worst=16\n",
      "B: Best=12, Expected=16, Worst=24\n",
      "C: Best=16, Expected=24, Worst=32\n",
      "D: Best=160, Expected=200, Worst=240\n",
      "D1: Best=24, Expected=32, Worst=40\n",
      "D2: Best=40, Expected=50, Worst=60\n",
      "D3: Best=40, Expected=50, Worst=60\n",
      "D4: Best=40, Expected=50, Worst=60\n",
      "D5: Best=40, Expected=50, Worst=60\n",
      "D6: Best=24, Expected=32, Worst=40\n",
      "D7: Best=24, Expected=32, Worst=40\n",
      "D8: Best=16, Expected=24, Worst=32\n",
      "E: Best=16, Expected=24, Worst=32\n",
      "F: Best=24, Expected=32, Worst=40\n",
      "G: Best=8, Expected=12, Worst=16\n",
      "H: Best=16, Expected=24, Worst=32\n"
     ]
    }
   ],
   "source": [
    "print(\"\\nDEBUG: Industry-Standard Estimated Hours for Each Task\")\n",
    "for task, (best, expected, worst) in time_estimates.items():\n",
    "    print(f\"{task}: Best={best}, Expected={expected}, Worst={worst}\")\n",
    "\n"
   ]
  },
  {
   "cell_type": "markdown",
   "metadata": {},
   "source": [
    "Task Dependency Graph"
   ]
  },
  {
   "cell_type": "code",
   "execution_count": 26,
   "metadata": {},
   "outputs": [],
   "source": [
    "import networkx as nx\n",
    "import matplotlib.pyplot as plt"
   ]
  },
  {
   "cell_type": "code",
   "execution_count": 27,
   "metadata": {},
   "outputs": [
    {
     "data": {
      "image/png": "[encoded data removed]",
      "text/plain": [
       "<Figure size 1200x800 with 1 Axes>"
      ]
     },
     "metadata": {},
     "output_type": "display_data"
    }
   ],
   "source": [
    "# Create a directed graph\n",
    "G = nx.DiGraph()\n",
    "\n",
    "# Add nodes (tasks)\n",
    "for _, row in df_tasks.iterrows():\n",
    "    G.add_node(row['taskID'], label=row['task'])\n",
    "\n",
    "# Add edges (dependencies)\n",
    "for _, row in df_tasks.iterrows():\n",
    "    if pd.notna(row['predecessorTaskIDs']):  # If there are dependencies\n",
    "        predecessors = str(row['predecessorTaskIDs']).split(',')\n",
    "        for pred in predecessors:\n",
    "            pred = pred.strip()\n",
    "            if pred in G.nodes:\n",
    "                G.add_edge(pred, row['taskID'])\n",
    "# Plot the dependency graph\n",
    "plt.figure(figsize=(12, 8))\n",
    "pos = nx.spring_layout(G, seed=42)  # Position nodes for visualization\n",
    "nx.draw(G, pos, with_labels=True, node_size=3000, node_color=\"lightblue\", edge_color=\"gray\", font_size=10, font_weight=\"bold\", arrows=True)\n",
    "plt.title(\"Task Dependency Graph\")\n",
    "plt.show()"
   ]
  },
  {
   "cell_type": "code",
   "execution_count": 28,
   "metadata": {},
   "outputs": [
    {
     "data": {
      "text/plain": [
       "{'Independent Tasks (Start Immediately)': ['A', 'B', 'D'],\n",
       " 'Single Dependency Tasks (Can Start Soon)': ['A',\n",
       "  'B',\n",
       "  'C',\n",
       "  'D',\n",
       "  'D1',\n",
       "  'D2',\n",
       "  'D3',\n",
       "  'D5',\n",
       "  'D6',\n",
       "  'D7']}"
      ]
     },
     "execution_count": 28,
     "metadata": {},
     "output_type": "execute_result"
    }
   ],
   "source": [
    "# Identify tasks with no predecessors (can be started immediately)\n",
    "independent_tasks = df_tasks[df_tasks[\"predecessorTaskIDs\"].isna()][\"taskID\"].tolist()\n",
    "\n",
    "# Identify tasks that depend on only one other task (can start soon after a single dependency is completed)\n",
    "single_dependency_tasks = df_tasks[df_tasks[\"predecessorTaskIDs\"].str.count(\",\").fillna(0) == 0][\"taskID\"].tolist()\n",
    "\n",
    "# Display results\n",
    "parallel_tasks = {\n",
    "    \"Independent Tasks (Start Immediately)\": independent_tasks,\n",
    "    \"Single Dependency Tasks (Can Start Soon)\": single_dependency_tasks,\n",
    "}\n",
    "\n",
    "parallel_tasks"
   ]
  },
  {
   "cell_type": "markdown",
   "metadata": {},
   "source": [
    "# Part 2: Model Specification"
   ]
  },
  {
   "cell_type": "code",
   "execution_count": 29,
   "metadata": {},
   "outputs": [
    {
     "name": "stdout",
     "output_type": "stream",
     "text": [
      "Project Scheduling Optimization Results:\n",
      "Minimum Project Completion Time: 300.0 hours\n",
      "\n",
      "Task Start Times:\n",
      "A: Start at 0.0 hours\n",
      "B: Start at 0.0 hours\n",
      "C: Start at 24.0 hours\n",
      "D: Start at 0.0 hours\n",
      "D1: Start at 32.0 hours\n",
      "D2: Start at 82.0 hours\n",
      "D3: Start at 82.0 hours\n",
      "D4: Start at 132.0 hours\n",
      "D5: Start at 182.0 hours\n",
      "D6: Start at 164.0 hours\n",
      "D7: Start at 196.0 hours\n",
      "D8: Start at 220.0 hours\n",
      "E: Start at 48.0 hours\n",
      "F: Start at 252.0 hours\n",
      "G: Start at 232.0 hours\n",
      "H: Start at 276.0 hours\n"
     ]
    }
   ],
   "source": [
    "from pulp import LpMinimize, LpProblem, LpVariable\n",
    "\n",
    "# Create the LP problem\n",
    "lp_model = LpProblem(\"Project_Scheduling_Optimization\", LpMinimize)\n",
    "\n",
    "# Define decision variables (start times for each task)\n",
    "task_vars = {task: LpVariable(f\"T_{task}\", lowBound=0) for task in df_tasks[\"taskID\"]}\n",
    "\n",
    "# Define the project completion time variable\n",
    "T_end = LpVariable(\"T_end\", lowBound=0)\n",
    "\n",
    "# Set the objective function: Minimize project completion time\n",
    "lp_model += T_end\n",
    "\n",
    "# Add constraints for dependencies: A task can't start before its predecessor finishes\n",
    "for _, row in df_tasks.iterrows():\n",
    "    task = row[\"taskID\"]\n",
    "    duration = row[\"expectedHours\"]\n",
    "\n",
    "    if pd.notna(row[\"predecessorTaskIDs\"]):  # Check if dependencies exist\n",
    "        predecessors = str(row[\"predecessorTaskIDs\"]).split(\",\")\n",
    "        for pred in predecessors:\n",
    "            pred = pred.strip()\n",
    "            if pred in task_vars:  # Ensure valid task ID\n",
    "                lp_model += task_vars[pred] + duration <= task_vars[task]\n",
    "\n",
    "# Ensure T_end is greater than all task completion times\n",
    "for task, var in task_vars.items():\n",
    "    duration = df_tasks.loc[df_tasks[\"taskID\"] == task, \"expectedHours\"].values[0]\n",
    "    lp_model += var + duration <= T_end\n",
    "\n",
    "# Solve the LP problem\n",
    "from pulp import PULP_CBC_CMD\n",
    "lp_model.solve(PULP_CBC_CMD(msg=False))\n",
    "\n",
    "# Print results\n",
    "print(\"Project Scheduling Optimization Results:\")\n",
    "print(f\"Minimum Project Completion Time: {T_end.varValue} hours\\n\")\n",
    "\n",
    "print(\"Task Start Times:\")\n",
    "for task, var in task_vars.items():\n",
    "    print(f\"{task}: Start at {var.varValue} hours\")\n"
   ]
  },
  {
   "cell_type": "code",
   "execution_count": 30,
   "metadata": {},
   "outputs": [
    {
     "name": "stdout",
     "output_type": "stream",
     "text": [
      "\n",
      "DEBUG: Task H Slack = -8.0 hours\n"
     ]
    }
   ],
   "source": [
    "# Calculate slack for Task H\n",
    "h_slack = task_vars[\"H\"].varValue - max(task_end_times[\"F\"], task_end_times[\"G\"])\n",
    "print(f\"\\nDEBUG: Task H Slack = {h_slack} hours\")\n",
    "\n"
   ]
  },
  {
   "cell_type": "code",
   "execution_count": 31,
   "metadata": {},
   "outputs": [],
   "source": [
    "lp_model += task_vars[\"H\"] == task_end_times[\"F\"]\n"
   ]
  },
  {
   "cell_type": "code",
   "execution_count": 34,
   "metadata": {},
   "outputs": [
    {
     "name": "stdout",
     "output_type": "stream",
     "text": [
      "\n",
      "Critical Path Tasks:\n",
      "A → B → C → D1 → E → D3 → D2 → D4 → D6 → D5 → D7 → D8 → G → F → H\n"
     ]
    }
   ],
   "source": [
    "# Identify all tasks that contribute to T_end\n",
    "critical_path = set()\n",
    "\n",
    "def trace_full_critical_path(task):\n",
    "    \"\"\"Recursively add tasks to the critical path by following dependencies back to the beginning.\"\"\"\n",
    "    if task in critical_path:\n",
    "        return  # Prevent infinite loops\n",
    "\n",
    "    critical_path.add(task)\n",
    "\n",
    "    # Get predecessors\n",
    "    predecessors = df_tasks.loc[df_tasks[\"taskID\"] == task, \"predecessorTaskIDs\"].values[0]\n",
    "    if pd.notna(predecessors):\n",
    "        for pred in str(predecessors).split(\",\"):\n",
    "            pred = pred.strip()\n",
    "            if pred in task_end_times:\n",
    "                trace_full_critical_path(pred)  # Recursively trace predecessors\n",
    "\n",
    "# Start tracing back from all tasks that finish at T_end\n",
    "for task, end_time in task_end_times.items():\n",
    "    if abs(end_time - T_end.varValue) <= 2:\n",
    "        trace_full_critical_path(task)\n",
    "\n",
    "# Sort tasks by start time for proper order\n",
    "critical_path = sorted(set(critical_path), key=lambda x: task_vars[x].varValue)\n",
    "\n",
    "print(\"\\nCritical Path Tasks:\")\n",
    "print(\" → \".join(critical_path))\n"
   ]
  },
  {
   "cell_type": "code",
   "execution_count": 35,
   "metadata": {},
   "outputs": [
    {
     "data": {
      "text/plain": [
       "Project_Scheduling_Optimization:\n",
       "MINIMIZE\n",
       "1*T_end + 0\n",
       "SUBJECT TO\n",
       "_C1: T_A - T_C <= -24\n",
       "\n",
       "_C2: T_A - T_D1 <= -32\n",
       "\n",
       "_C3: T_D1 - T_D2 <= -50\n",
       "\n",
       "_C4: T_D1 - T_D3 <= -50\n",
       "\n",
       "_C5: T_D2 - T_D4 <= -50\n",
       "\n",
       "_C6: T_D3 - T_D4 <= -50\n",
       "\n",
       "_C7: T_D4 - T_D5 <= -50\n",
       "\n",
       "_C8: T_D4 - T_D6 <= -32\n",
       "\n",
       "_C9: T_D6 - T_D7 <= -32\n",
       "\n",
       "_C10: T_D5 - T_D8 <= -24\n",
       "\n",
       "_C11: T_D7 - T_D8 <= -24\n",
       "\n",
       "_C12: T_B - T_E <= -24\n",
       "\n",
       "_C13: T_C - T_E <= -24\n",
       "\n",
       "_C14: T_D8 - T_F <= -32\n",
       "\n",
       "_C15: T_E - T_F <= -32\n",
       "\n",
       "_C16: T_A - T_G <= -12\n",
       "\n",
       "_C17: T_D8 - T_G <= -12\n",
       "\n",
       "_C18: T_F - T_H <= -24\n",
       "\n",
       "_C19: T_G - T_H <= -24\n",
       "\n",
       "_C20: T_A - T_end <= -12\n",
       "\n",
       "_C21: T_B - T_end <= -16\n",
       "\n",
       "_C22: T_C - T_end <= -24\n",
       "\n",
       "_C23: T_D - T_end <= -200\n",
       "\n",
       "_C24: T_D1 - T_end <= -32\n",
       "\n",
       "_C25: T_D2 - T_end <= -50\n",
       "\n",
       "_C26: T_D3 - T_end <= -50\n",
       "\n",
       "_C27: T_D4 - T_end <= -50\n",
       "\n",
       "_C28: T_D5 - T_end <= -50\n",
       "\n",
       "_C29: T_D6 - T_end <= -32\n",
       "\n",
       "_C30: T_D7 - T_end <= -32\n",
       "\n",
       "_C31: T_D8 - T_end <= -24\n",
       "\n",
       "_C32: T_E - T_end <= -24\n",
       "\n",
       "_C33: T_F - T_end <= -32\n",
       "\n",
       "_C34: T_G - T_end <= -12\n",
       "\n",
       "_C35: T_H - T_end <= -24\n",
       "\n",
       "_C36: T_H = 284\n",
       "\n",
       "VARIABLES\n",
       "T_A Continuous\n",
       "T_B Continuous\n",
       "T_C Continuous\n",
       "T_D Continuous\n",
       "T_D1 Continuous\n",
       "T_D2 Continuous\n",
       "T_D3 Continuous\n",
       "T_D4 Continuous\n",
       "T_D5 Continuous\n",
       "T_D6 Continuous\n",
       "T_D7 Continuous\n",
       "T_D8 Continuous\n",
       "T_E Continuous\n",
       "T_F Continuous\n",
       "T_G Continuous\n",
       "T_H Continuous\n",
       "T_end Continuous"
      ]
     },
     "execution_count": 35,
     "metadata": {},
     "output_type": "execute_result"
    }
   ],
   "source": [
    "lp_model"
   ]
  },
  {
   "cell_type": "code",
   "execution_count": 36,
   "metadata": {},
   "outputs": [
    {
     "data": {
      "text/plain": [
       "1"
      ]
     },
     "execution_count": 36,
     "metadata": {},
     "output_type": "execute_result"
    }
   ],
   "source": []
  },
  {
   "cell_type": "code",
   "execution_count": null,
   "metadata": {},
   "outputs": [],
   "source": []
  }
 ],
 "metadata": {
  "kernelspec": {
   "display_name": "base",
   "language": "python",
   "name": "python3"
  },
  "language_info": {
   "codemirror_mode": {
    "name": "ipython",
    "version": 3
   },
   "file_extension": ".py",
   "mimetype": "text/x-python",
   "name": "python",
   "nbconvert_exporter": "python",
   "pygments_lexer": "ipython3",
   "version": "3.12.4"
  }
 },
 "nbformat": 4,
 "nbformat_minor": 2
}
